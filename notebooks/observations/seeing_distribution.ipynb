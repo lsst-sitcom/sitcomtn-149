{
 "cells": [
  {
   "cell_type": "code",
   "execution_count": null,
   "id": "9f84fee3-0ee9-426a-929e-5e10f541d241",
   "metadata": {},
   "outputs": [],
   "source": [
    "from lsst.daf.butler import Butler\n",
    "import seaborn as sns\n",
    "import matplotlib.pyplot as plt\n",
    "\n",
    "# https://rtn-045.lsst.io/#colorblind-friendly-plots\n",
    "plot_filter_colors_white_background = {'u': '#0c71ff', 'g': '#49be61', 'r': '#c61c00', 'i': '#ffc200', 'z': '#f341a2', 'y': '#5d0000'}\n",
    "\n",
    "#collection='LSSTComCam/runs/DRP/20241101_20241127/w_2024_48/DM-47841'\n",
    "collection = 'LSSTComCam/runs/DRP/20241101_20241211/w_2024_50/DM-48128'\n",
    "butler = Butler(\"embargo\", collections=collection)\n",
    "visitSummaryTable = butler.get(\"visitSummary\", visit=2024111100082)\n",
    "#visitSummaryTable = butler.get(\"finalVisitSummary\", visit=2024111100082)\n",
    "df = butler.get(\"ccdVisitTable\")\n",
    "df[\"psfFwhm\"]=df[\"psfSigma\"]*2.355*0.2"
   ]
  },
  {
   "cell_type": "code",
   "execution_count": null,
   "id": "82e14357-9a8c-40b1-ae98-21d06c4c7df8",
   "metadata": {},
   "outputs": [],
   "source": [
    "sns.set_theme(style=\"ticks\")\n",
    "f, ax = plt.subplots(figsize=(7, 5), dpi=200)\n",
    "\n",
    "sns.histplot(\n",
    "    df,  x=\"psfFwhm\", hue=\"band\",\n",
    "    multiple=\"stack\",\n",
    "    edgecolor=\".3\",\n",
    "    linewidth=0.0,\n",
    "    palette=plot_filter_colors_white_background,\n",
    "    hue_order = ['u', 'g', 'r', 'i', 'z', 'y']\n",
    ")\n",
    "ax.set_ylabel(\"CCDs (count)\")  # Replace with your desired label\n",
    "ax.set_xlabel(\"PSF FWHM (arcsec)\")  # Replace with your desired label\n",
    "ax.set_xlim(0.5, 2.0)\n",
    "ax.set_title(\"20241101-20241211 PSF distribution\")\n",
    "for spine in ax.spines.values():\n",
    "    spine.set_linewidth(0.5)  # Set to a smaller value for a thinner border\n",
    "plt.tight_layout()\n",
    "plt.savefig('comcam_science_psf_fwhm_hist.pdf')"
   ]
  },
  {
   "cell_type": "code",
   "execution_count": null,
   "id": "0aa7748e-ee36-47df-a3be-708fd5df4d13",
   "metadata": {},
   "outputs": [],
   "source": [
    "df.columns"
   ]
  },
  {
   "cell_type": "code",
   "execution_count": null,
   "id": "858af986-867c-4abb-831e-f43a68581aa8",
   "metadata": {},
   "outputs": [],
   "source": [
    "sns.set_theme(style=\"ticks\")\n",
    "f, ax = plt.subplots(figsize=(7, 5), dpi=200)\n",
    "\n",
    "sns.ecdfplot(\n",
    "    df,  x=\"psfFwhm\", hue=\"band\",\n",
    "    palette=plot_filter_colors_white_background,\n",
    "    hue_order = ['u', 'g', 'r', 'i', 'z', 'y']\n",
    ")\n",
    "ax.set_ylabel(\"CCDs (count)\")  # Replace with your desired label\n",
    "ax.set_xlabel(\"PSF FWHM (arcsec)\")  # Replace with your desired label\n",
    "ax.set_xlim(0.5, 2.0)\n",
    "ax.set_title(\"20241101-20241211 PSF distribution\")\n",
    "for spine in ax.spines.values():\n",
    "    spine.set_linewidth(0.5)  # Set to a smaller value for a thinner border\n",
    "plt.tight_layout()\n",
    "plt.savefig('comcam_science_psf_fwhm_cdf.pdf')"
   ]
  },
  {
   "cell_type": "code",
   "execution_count": null,
   "id": "a2c3a029-6b98-4be0-9f38-1d644196adc4",
   "metadata": {},
   "outputs": [],
   "source": []
  }
 ],
 "metadata": {
  "kernelspec": {
   "display_name": "LSST",
   "language": "python",
   "name": "lsst"
  },
  "language_info": {
   "codemirror_mode": {
    "name": "ipython",
    "version": 3
   },
   "file_extension": ".py",
   "mimetype": "text/x-python",
   "name": "python",
   "nbconvert_exporter": "python",
   "pygments_lexer": "ipython3",
   "version": "3.12.9"
  }
 },
 "nbformat": 4,
 "nbformat_minor": 5
}
