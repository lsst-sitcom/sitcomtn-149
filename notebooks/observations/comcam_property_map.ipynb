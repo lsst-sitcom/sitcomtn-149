{
 "cells": [
  {
   "cell_type": "code",
   "execution_count": null,
   "id": "deb5e27d-24a2-4652-9857-7bf2f25be7e9",
   "metadata": {},
   "outputs": [],
   "source": [
    "import matplotlib.pyplot as plt\n",
    "%matplotlib widget"
   ]
  },
  {
   "cell_type": "code",
   "execution_count": null,
   "id": "12d27e4d-bc2a-4f7c-8d95-d5066a35b01e",
   "metadata": {},
   "outputs": [],
   "source": [
    "import numpy as np\n",
    "import skyproj"
   ]
  },
  {
   "cell_type": "code",
   "execution_count": null,
   "id": "074340a6-d623-4a1d-8c0f-f07b485baa72",
   "metadata": {},
   "outputs": [],
   "source": [
    "from lsst.daf.butler import Butler"
   ]
  },
  {
   "cell_type": "code",
   "execution_count": null,
   "id": "67fdc206-fa5d-4ef6-bd57-cfc9e49c6d48",
   "metadata": {},
   "outputs": [],
   "source": [
    "repo = '/repo/embargo'\n",
    "collection = 'LSSTComCam/runs/DRP/20241101_20241211/w_2024_51/DM-48233'\n",
    "butler = Butler(repo, collections=collection)\n",
    "registry = butler.registry"
   ]
  },
  {
   "cell_type": "code",
   "execution_count": null,
   "id": "8c80819f-7897-425b-81ab-8c500c8bf99a",
   "metadata": {},
   "outputs": [],
   "source": [
    "for dtype in sorted(registry.queryDatasetTypes(expression=\"*consolidated_map*\")):\n",
    "    print(dtype.name)"
   ]
  },
  {
   "cell_type": "code",
   "execution_count": null,
   "id": "b15682ee-64f5-4274-8cc5-c0121135b126",
   "metadata": {},
   "outputs": [],
   "source": [
    "sorted(registry.queryDatasets('deepCoadd_psf_maglim_consolidated_map_weighted_mean'))"
   ]
  },
  {
   "cell_type": "code",
   "execution_count": null,
   "id": "048e5440-22f2-4a5a-8e7d-8ba206eb368b",
   "metadata": {},
   "outputs": [],
   "source": [
    "band = 'r'"
   ]
  },
  {
   "cell_type": "code",
   "execution_count": null,
   "id": "8453d689-f8f9-49a7-ba2e-37f16c7a316a",
   "metadata": {},
   "outputs": [],
   "source": [
    "hspmap = butler.get('deepCoadd_psf_maglim_consolidated_map_weighted_mean', band=band, skymap='lsst_cells_v1')"
   ]
  },
  {
   "cell_type": "code",
   "execution_count": null,
   "id": "bea20b8c-0513-474f-b30e-60909170ad2b",
   "metadata": {},
   "outputs": [],
   "source": [
    "fig, ax = plt.subplots(figsize=(8, 5))\n",
    "sp = skyproj.McBrydeSkyproj(ax=ax, lon_0=65.0)\n",
    "sp.draw_hspmap(hspmap)\n",
    "sp.draw_colorbar(label='PSF Maglim (i-band)')\n",
    "plt.show()\n",
    "\n",
    "del fig, ax, sp"
   ]
  },
  {
   "cell_type": "code",
   "execution_count": null,
   "id": "c2653100-c17d-42f7-9f9a-66c7b2e1434d",
   "metadata": {},
   "outputs": [],
   "source": [
    "fig, ax = plt.subplots(figsize=(8, 5))\n",
    "sp = skyproj.GnomonicSkyproj(ax=ax, lon_0=38.0, lat_0=7.0, extent=(37.0, 39.0, 6.0, 8.0))\n",
    "sp.draw_hspmap(hspmap, zoom=False)\n",
    "sp.draw_colorbar(label='PSF Maglim (%s-band)'%(band))\n",
    "plt.show()\n",
    "\n",
    "del fig, ax, sp"
   ]
  },
  {
   "cell_type": "markdown",
   "id": "c8134a81-e122-4ae6-b404-ca538a27dc57",
   "metadata": {},
   "source": [
    "Extended Chandra Deep Field South (ECDFS)\n",
    "(ra, dec) = (53.13, -28.10)\n",
    "\n",
    "Euclid Deep Field South (EDFS)\n",
    "(ra, dec) = (59.10, -48.73)\n",
    "\n",
    "Low Ecliptic Latitude Field (Rubin SV 38 7)\n",
    "(ra, dec) = (37.86, 6.98)\n",
    "\n",
    "Low Galactic Latitude Field (Rubin SV 95 -25)\n",
    "(ra, dec) = (95.00, -25.00)\n",
    "\n",
    "47 Tuc Globular Cluster (47 Tuc)\n",
    "(ra, dec) = (6.02, -72.08)\n",
    "\n",
    "Fornax Dwarf Spheroidal Galaxy (Fornax dSph)\n",
    "(ra, dec) = (40.00, -34.45)"
   ]
  },
  {
   "cell_type": "code",
   "execution_count": null,
   "id": "7d726223-4e8f-4faa-b59c-feeaa0c3993e",
   "metadata": {},
   "outputs": [],
   "source": [
    "targets = {\n",
    "    \"ECDFS\": [53.13, -28.10, 1.05],\n",
    "    \"EDFS\": [59.10, -48.73, 1.05],\n",
    "    \"Rubin SV 38 7\": [37.86, 6.98, 1.05],\n",
    "    \"Rubin SV 95 -25\": [95.00, -25.00, 1.05],\n",
    "    \"47 Tuc\": [6.02, -72.08, 1.05],\n",
    "    \"Fornax dSph\": [40.00, -34.45, 1.05],\n",
    "    \"Seagull\": [106.23, -10.51, 1.05],\n",
    "}"
   ]
  },
  {
   "cell_type": "code",
   "execution_count": null,
   "id": "79ce95cb-e3e1-4762-a73e-c80b5f9df165",
   "metadata": {},
   "outputs": [],
   "source": [
    "for target in targets.keys():\n",
    "    ra, dec, half_size = targets[target]\n",
    "\n",
    "    half_size_projected = half_size / np.cos(np.radians(dec))\n",
    "    \n",
    "    extent = (\n",
    "        ra - half_size_projected,\n",
    "        ra + half_size_projected,\n",
    "        dec - half_size,\n",
    "        dec + half_size\n",
    "    )\n",
    "    ig, ax = plt.subplots(figsize=(6.25, 5))\n",
    "    sp = skyproj.GnomonicSkyproj(ax=ax, lon_0=ra, lat_0=dec, extent=extent)\n",
    "    sp.draw_hspmap(hspmap, zoom=False)\n",
    "    sp.draw_colorbar(label='PSF Maglim (%s-band)'%(band))\n",
    "    plt.suptitle(target)\n",
    "    plt.show()\n",
    "    outfile = 'comcam_psf_maglim_%s_%s.pdf'%(target.lower().replace(\" \", \"_\"), band)\n",
    "    print(outfile)\n",
    "    plt.savefig(outfile)"
   ]
  },
  {
   "cell_type": "code",
   "execution_count": null,
   "id": "b437bd40-d912-4fc5-ae6c-816aaa7b075e",
   "metadata": {},
   "outputs": [],
   "source": []
  }
 ],
 "metadata": {
  "kernelspec": {
   "display_name": "LSST",
   "language": "python",
   "name": "lsst"
  },
  "language_info": {
   "codemirror_mode": {
    "name": "ipython",
    "version": 3
   },
   "file_extension": ".py",
   "mimetype": "text/x-python",
   "name": "python",
   "nbconvert_exporter": "python",
   "pygments_lexer": "ipython3",
   "version": "3.12.9"
  }
 },
 "nbformat": 4,
 "nbformat_minor": 5
}
